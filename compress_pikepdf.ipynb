{
 "cells": [
  {
   "cell_type": "code",
   "execution_count": null,
   "id": "64f25937-2faa-4370-b511-9c4828b66405",
   "metadata": {},
   "outputs": [],
   "source": [
    "import pikepdf\n",
    "\n",
    "def compress_with_pikepdf(input_pdf, output_pdf):\n",
    "    # Buka file PDF dengan pikepdf\n",
    "    pdf = pikepdf.open(input_pdf)\n",
    "    \n",
    "    # Simpan ulang file PDF untuk mengoptimalkan ukuran tanpa keyword optimize_version\n",
    "    pdf.save(output_pdf)\n",
    "    \n",
    "    print(f\"File berhasil dikompresi: {output_pdf}\")\n",
    "\n",
    "# Contoh penggunaan\n",
    "compress_with_pikepdf(\"input.pdf\", \"compressed_output.pdf\")"
   ]
  }
 ],
 "metadata": {
  "kernelspec": {
   "display_name": "Python 3 (ipykernel)",
   "language": "python",
   "name": "python3"
  },
  "language_info": {
   "codemirror_mode": {
    "name": "ipython",
    "version": 3
   },
   "file_extension": ".py",
   "mimetype": "text/x-python",
   "name": "python",
   "nbconvert_exporter": "python",
   "pygments_lexer": "ipython3",
   "version": "3.12.4"
  }
 },
 "nbformat": 4,
 "nbformat_minor": 5
}
