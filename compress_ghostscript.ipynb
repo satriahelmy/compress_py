{
 "cells": [
  {
   "cell_type": "code",
   "execution_count": 4,
   "id": "689c1872-ea8e-4eb5-9f50-3ac2c9418990",
   "metadata": {},
   "outputs": [
    {
     "name": "stdout",
     "output_type": "stream",
     "text": [
      "File berhasil dikompresi: file_kompres_20230914 ToR CMCT MIS SSoT_signed.pdf\n"
     ]
    }
   ],
   "source": [
    "import subprocess\n",
    "import os\n",
    "\n",
    "def compress_pdf(input_pdf, output_pdf, quality=\"screen\"):\n",
    "    quality_options = [\"screen\", \"ebook\", \"printer\", \"prepress\"]\n",
    "    if quality not in quality_options:\n",
    "        raise ValueError(f\"Quality must be one of {quality_options}\")\n",
    "\n",
    "    command = [\n",
    "    \"C:/Program Files/gs/gs10.03.1/bin/gswin64c.exe\",\n",
    "    \"-sDEVICE=pdfwrite\",\n",
    "    \"-dPDFSETTINGS=/screen\",  # Kualitas screen untuk kompresi maksimal\n",
    "    \"-dDownsampleColorImages=true\",  # Mengaktifkan downsampling gambar berwarna\n",
    "    \"-dColorImageResolution=72\",  # Resolusi gambar diatur ke 72 dpi (default screen quality)\n",
    "    \"-dDownsampleGrayImages=true\",  # Mengaktifkan downsampling gambar grayscale\n",
    "    \"-dGrayImageResolution=72\",  # Resolusi gambar grayscale\n",
    "    \"-dDownsampleMonoImages=true\",  # Mengaktifkan downsampling gambar monokrom\n",
    "    \"-dMonoImageResolution=72\",  # Resolusi gambar monokrom\n",
    "    \"-dNOPAUSE\",\n",
    "    \"-dBATCH\",\n",
    "    \"-dQUIET\",\n",
    "    f\"-sOutputFile={output_pdf}\",\n",
    "    input_pdf]\n",
    "    \n",
    "    try:\n",
    "        subprocess.run(command, check=True)\n",
    "        print(f\"File berhasil dikompresi: {output_pdf}\")\n",
    "    except subprocess.CalledProcessError as e:\n",
    "        print(f\"Terjadi kesalahan saat kompresi: {e}\")\n",
    "\n",
    "# Contoh penggunaan\n",
    "input_pdf = \"input.pdf\"\n",
    "output_pdf = \"compressed_output.pdf\"\n",
    "compress_pdf(input_pdf, output_pdf, quality=\"screen\")  # quality bisa diubah sesuai kebutuhan"
   ]
  }
 ],
 "metadata": {
  "kernelspec": {
   "display_name": "Python 3 (ipykernel)",
   "language": "python",
   "name": "python3"
  },
  "language_info": {
   "codemirror_mode": {
    "name": "ipython",
    "version": 3
   },
   "file_extension": ".py",
   "mimetype": "text/x-python",
   "name": "python",
   "nbconvert_exporter": "python",
   "pygments_lexer": "ipython3",
   "version": "3.11.9"
  }
 },
 "nbformat": 4,
 "nbformat_minor": 5
}
